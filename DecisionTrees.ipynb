{
 "cells": [
  {
   "cell_type": "code",
   "execution_count": 36,
   "id": "869dec2d",
   "metadata": {},
   "outputs": [],
   "source": [
    "# Import libraries\n",
    "import pandas as pd\n",
    "import numpy as np\n",
    "from collections import Counter\n",
    "import math\n"
   ]
  },
  {
   "cell_type": "code",
   "execution_count": 39,
   "id": "782f71a2",
   "metadata": {},
   "outputs": [
    {
     "name": "stdout",
     "output_type": "stream",
     "text": [
      "Columns: ['Age', 'Gender', 'Polyuria', 'Polydipsia', 'sudden weight loss', 'weakness', 'Polyphagia', 'Genital thrush', 'visual blurring', 'Itching', 'Irritability', 'delayed healing', 'partial paresis', 'muscle stiffness', 'Alopecia', 'Obesity', 'class']\n"
     ]
    }
   ],
   "source": [
    "# Load the dataset\n",
    "data = pd.read_csv('diabetes_data_upload.csv')\n",
    "\n",
    "# View column names\n",
    "print(\"Columns:\", data.columns.tolist())\n",
    "\n",
    "# Let's assume 'class' is the target.\n",
    "TARGET = 'class'\n"
   ]
  },
  {
   "cell_type": "code",
   "execution_count": 41,
   "id": "c75605d8",
   "metadata": {},
   "outputs": [],
   "source": [
    "# Binning numerical attributes (e.g., Age)\n",
    "def bin_age(age):\n",
    "    if age < 30:\n",
    "        return '<30'\n",
    "    elif age <= 50:\n",
    "        return '30-50'\n",
    "    else:\n",
    "        return '>50'\n",
    "\n",
    "# Apply numeric coercion then binning\n",
    "if 'Age' in data.columns:\n",
    "    data['Age'] = pd.to_numeric(data['Age'], errors='coerce')\n",
    "    data['Age'] = data['Age'].apply(bin_age)\n",
    "\n",
    "\n",
    "# If other numerical features exist, bin similarly if needed\n"
   ]
  },
  {
   "cell_type": "markdown",
   "id": "8693b9ee",
   "metadata": {},
   "source": [
    "m"
   ]
  },
  {
   "cell_type": "code",
   "execution_count": null,
   "id": "87641b75",
   "metadata": {},
   "outputs": [],
   "source": []
  },
  {
   "cell_type": "markdown",
   "id": "fbba033d",
   "metadata": {},
   "source": [
    "Implement the entropy function"
   ]
  },
  {
   "cell_type": "code",
   "execution_count": 43,
   "id": "e8e8804a",
   "metadata": {},
   "outputs": [],
   "source": [
    "# Function to calculate entropy\n",
    "def entropy(column):\n",
    "    counts = Counter(column)\n",
    "    total = len(column)\n",
    "    ent = 0\n",
    "    for count in counts.values():\n",
    "        prob = count / total\n",
    "        ent -= prob * math.log2(prob)\n",
    "    return ent"
   ]
  },
  {
   "cell_type": "markdown",
   "id": "82b46165",
   "metadata": {},
   "source": [
    "Implement the info gain function"
   ]
  },
  {
   "cell_type": "code",
   "execution_count": 44,
   "id": "367fa60a",
   "metadata": {},
   "outputs": [],
   "source": [
    "# Function to calculate information gain\n",
    "def information_gain(data, split_attr, target_attr=TARGET):\n",
    "    total_entropy = entropy(data[target_attr])\n",
    "    vals, counts = np.unique(data[split_attr], return_counts=True)\n",
    "    \n",
    "    weighted_entropy = 0\n",
    "    for i in range(len(vals)):\n",
    "        subset = data[data[split_attr] == vals[i]]\n",
    "        weighted_entropy += (counts[i] / np.sum(counts)) * entropy(subset[target_attr])\n",
    "        \n",
    "    return total_entropy - weighted_entropy"
   ]
  },
  {
   "cell_type": "markdown",
   "id": "c8f7accf",
   "metadata": {},
   "source": [
    "Implement the ID3 algo"
   ]
  },
  {
   "cell_type": "code",
   "execution_count": 45,
   "id": "5afa127a",
   "metadata": {},
   "outputs": [],
   "source": [
    "# ID3 algorithm\n",
    "def id3(data, original_data, features, target_attr=TARGET, parent_node_class=None):\n",
    "    # If all values are the same, return the class\n",
    "    if len(np.unique(data[target_attr])) == 1:\n",
    "        return np.unique(data[target_attr])[0]\n",
    "\n",
    "    # If no more features, return majority\n",
    "    if len(features) == 0:\n",
    "        return Counter(data[target_attr]).most_common(1)[0][0]\n",
    "\n",
    "    # If dataset is empty, return mode of original data\n",
    "    if len(data) == 0:\n",
    "        return Counter(original_data[target_attr]).most_common(1)[0][0]\n",
    "\n",
    "    # Default value for current node\n",
    "    parent_node_class = Counter(data[target_attr]).most_common(1)[0][0]\n",
    "\n",
    "    # Select best feature\n",
    "    gains = [information_gain(data, feature, target_attr) for feature in features]\n",
    "    best_feature = features[np.argmax(gains)]\n",
    "\n",
    "    # Create tree structure\n",
    "    tree = {best_feature: {}}\n",
    "\n",
    "    # Remove used feature\n",
    "    features = [f for f in features if f != best_feature]\n",
    "\n",
    "    for value in np.unique(data[best_feature]):\n",
    "        sub_data = data[data[best_feature] == value]\n",
    "        subtree = id3(sub_data, data, features, target_attr, parent_node_class)\n",
    "        tree[best_feature][value] = subtree\n",
    "\n",
    "    return tree\n"
   ]
  },
  {
   "cell_type": "markdown",
   "id": "5103c33d",
   "metadata": {},
   "source": [
    "Prediction Function"
   ]
  },
  {
   "cell_type": "code",
   "execution_count": 46,
   "id": "e8f2c480",
   "metadata": {},
   "outputs": [],
   "source": [
    "# Predict a single example\n",
    "def predict(query, tree, default=None):\n",
    "    for attr in query:\n",
    "        if attr in tree:\n",
    "            try:\n",
    "                result = tree[attr][query[attr]]\n",
    "            except:\n",
    "                return default\n",
    "            if isinstance(result, dict):\n",
    "                return predict(query, result, default)\n",
    "            else:\n",
    "                return result\n",
    "    return default"
   ]
  },
  {
   "cell_type": "markdown",
   "id": "cf78e354",
   "metadata": {},
   "source": [
    "Implement the testing functiom"
   ]
  },
  {
   "cell_type": "code",
   "execution_count": 47,
   "id": "263d2acc",
   "metadata": {},
   "outputs": [],
   "source": [
    "# Testing function\n",
    "def test(data, tree):\n",
    "    correct = 0\n",
    "    for i in range(len(data)):\n",
    "        query = data.iloc[i].to_dict()\n",
    "        true_class = query[TARGET]\n",
    "        del query[TARGET]\n",
    "        prediction = predict(query, tree, default='Negative')  # assuming default\n",
    "        if prediction == true_class:\n",
    "            correct += 1\n",
    "    accuracy = correct / len(data)\n",
    "    print(f\"Accuracy: {accuracy:.4f}\")\n",
    "    return accuracy"
   ]
  },
  {
   "cell_type": "markdown",
   "id": "85bb8637",
   "metadata": {},
   "source": [
    "The rest of the stuff has been implemented for you"
   ]
  },
  {
   "cell_type": "code",
   "execution_count": 48,
   "id": "4972b83c",
   "metadata": {},
   "outputs": [],
   "source": [
    "#  tree visualization\n",
    "def print_tree(tree, indent=\"\"):\n",
    "    if not isinstance(tree, dict):\n",
    "        print(indent + \"->\", tree)\n",
    "        return\n",
    "    for attr, branches in tree.items():\n",
    "        for value, subtree in branches.items():\n",
    "            print(indent + f\"[{attr} = {value}]\")\n",
    "            print_tree(subtree, indent + \"  \")\n"
   ]
  },
  {
   "cell_type": "code",
   "execution_count": 52,
   "id": "7dd58cbf",
   "metadata": {},
   "outputs": [
    {
     "name": "stdout",
     "output_type": "stream",
     "text": [
      "[Polyuria = No]\n",
      "  [Gender = Female]\n",
      "    [Alopecia = No]\n",
      "      [visual blurring = No]\n",
      "        [muscle stiffness = No]\n",
      "          [Age = 30-50]\n",
      "            [Irritability = No]\n",
      "              [weakness = No]\n",
      "                [sudden weight loss = No]\n",
      "                  [Obesity = No]\n",
      "                    [Polydipsia = No]\n",
      "                      [Polyphagia = No]\n",
      "                        [Genital thrush = No]\n",
      "                          [Itching = No]\n",
      "                            [delayed healing = No]\n",
      "                              [partial paresis = No]\n",
      "                                -> Positive\n",
      "                  [Obesity = Yes]\n",
      "                    -> Positive\n",
      "                [sudden weight loss = Yes]\n",
      "                  -> Negative\n",
      "              [weakness = Yes]\n",
      "                -> Positive\n",
      "            [Irritability = Yes]\n",
      "              -> Negative\n",
      "          [Age = <30]\n",
      "            -> Negative\n",
      "          [Age = >50]\n",
      "            -> Positive\n",
      "        [muscle stiffness = Yes]\n",
      "          -> Positive\n",
      "      [visual blurring = Yes]\n",
      "        -> Positive\n",
      "    [Alopecia = Yes]\n",
      "      [delayed healing = No]\n",
      "        -> Positive\n",
      "      [delayed healing = Yes]\n",
      "        -> Negative\n",
      "  [Gender = Male]\n",
      "    [Polydipsia = No]\n",
      "      [Irritability = No]\n",
      "        [weakness = No]\n",
      "          [partial paresis = No]\n",
      "            -> Negative\n",
      "          [partial paresis = Yes]\n",
      "            -> Positive\n",
      "        [weakness = Yes]\n",
      "          [Itching = No]\n",
      "            [Alopecia = No]\n",
      "              -> Negative\n",
      "            [Alopecia = Yes]\n",
      "              [sudden weight loss = No]\n",
      "                -> Positive\n",
      "              [sudden weight loss = Yes]\n",
      "                -> Negative\n",
      "          [Itching = Yes]\n",
      "            [Alopecia = No]\n",
      "              [Age = 30-50]\n",
      "                -> Positive\n",
      "              [Age = >50]\n",
      "                -> Negative\n",
      "            [Alopecia = Yes]\n",
      "              -> Negative\n",
      "      [Irritability = Yes]\n",
      "        [Genital thrush = No]\n",
      "          [Polyphagia = No]\n",
      "            -> Negative\n",
      "          [Polyphagia = Yes]\n",
      "            [Age = 30-50]\n",
      "              -> Positive\n",
      "            [Age = >50]\n",
      "              -> Negative\n",
      "        [Genital thrush = Yes]\n",
      "          -> Positive\n",
      "    [Polydipsia = Yes]\n",
      "      [Irritability = No]\n",
      "        [muscle stiffness = No]\n",
      "          [partial paresis = No]\n",
      "            -> Positive\n",
      "          [partial paresis = Yes]\n",
      "            [Age = 30-50]\n",
      "              -> Negative\n",
      "            [Age = >50]\n",
      "              -> Positive\n",
      "        [muscle stiffness = Yes]\n",
      "          [visual blurring = No]\n",
      "            -> Positive\n",
      "          [visual blurring = Yes]\n",
      "            -> Negative\n",
      "      [Irritability = Yes]\n",
      "        -> Positive\n",
      "[Polyuria = Yes]\n",
      "  [Polydipsia = No]\n",
      "    [Itching = No]\n",
      "      -> Positive\n",
      "    [Itching = Yes]\n",
      "      [delayed healing = No]\n",
      "        -> Positive\n",
      "      [delayed healing = Yes]\n",
      "        [Alopecia = No]\n",
      "          -> Positive\n",
      "        [Alopecia = Yes]\n",
      "          [Gender = Female]\n",
      "            -> Positive\n",
      "          [Gender = Male]\n",
      "            [Age = 30-50]\n",
      "              [sudden weight loss = No]\n",
      "                -> Positive\n",
      "              [sudden weight loss = Yes]\n",
      "                -> Negative\n",
      "            [Age = >50]\n",
      "              -> Negative\n",
      "  [Polydipsia = Yes]\n",
      "    -> Positive\n",
      "Accuracy: 0.9942\n",
      "Example prediction: Positive\n"
     ]
    }
   ],
   "source": [
    "# Prepare features list\n",
    "features = data.columns.tolist()\n",
    "features.remove(TARGET)\n",
    "\n",
    "# Build the decision tree\n",
    "tree = id3(data, data, features)\n",
    "\n",
    "# Display the tree\n",
    "print_tree(tree)\n",
    "\n",
    "\n",
    "# Test accuracy on the same data (since no train-test split here)\n",
    "test(data, tree)\n",
    "\n",
    "# Predict on a single new instance (example)\n",
    "example_query = {col: data[col].iloc[4] for col in features}\n",
    "print(\"Example prediction:\", predict(example_query, tree))\n"
   ]
  },
  {
   "cell_type": "markdown",
   "id": "6de9a171",
   "metadata": {},
   "source": []
  }
 ],
 "metadata": {
  "kernelspec": {
   "display_name": "Python 3 (ipykernel)",
   "language": "python",
   "name": "python3"
  },
  "language_info": {
   "codemirror_mode": {
    "name": "ipython",
    "version": 3
   },
   "file_extension": ".py",
   "mimetype": "text/x-python",
   "name": "python",
   "nbconvert_exporter": "python",
   "pygments_lexer": "ipython3",
   "version": "3.12.4"
  }
 },
 "nbformat": 4,
 "nbformat_minor": 5
}
