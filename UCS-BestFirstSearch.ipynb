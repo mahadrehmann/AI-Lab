{
 "cells": [
  {
   "cell_type": "markdown",
   "metadata": {},
   "source": [
    "# Q1\n",
    "In a computer network, data packets must be transmitted efficiently from a source server to a destination server. Each link between routers has a different transmission cost depending on factors such as bandwidth, latency, congestion, or link quality. Your goal is to determine the most cost-efficient route for the data packet to travel from the source to the destination. <br>\n",
    "\n",
    "Problem Setup: The network can be modeled as a graph where:\n",
    "Nodes represent routers in the network.\n",
    "Edges between nodes represent network links, with associated transmission costs. These costs reflect the real-world constraints, such as available bandwidth, latency, or congestion level.\n",
    "| Router 1 | Router 2 | Transmission Cost |\n",
    "|----------|----------|-------------------|\n",
    "| A        | B        | 4                 |\n",
    "| A        | C        | 2                 |\n",
    "| B        | D        | 3                 |\n",
    "| C        | D        | 1                 |\n",
    "| C        | E        | 7                 |\n",
    "| D        | F        | 5                 |\n",
    "| E        | F        | 3                 |\n",
    "\n",
    "\n",
    "The task is to find the least costly path for the data packet to travel from the source server (Router A) to the destination server (Router F) using Uniform Cost Search (UCS).\n",
    "\n",
    "Example Output:\n",
    "Using UCS, the algorithm should explore paths such as:\n",
    "\n",
    "A → C → D → F (total cost: 2 + 1 + 5 = 8) <br>\n",
    "A → B → D → F (total cost: 4 + 3 + 5 = 12)"
   ]
  },
  {
   "cell_type": "code",
   "execution_count": 67,
   "metadata": {},
   "outputs": [
    {
     "name": "stdout",
     "output_type": "stream",
     "text": [
      "['hit', 'hot', 'dot', 'dog', 'cog']\n"
     ]
    }
   ],
   "source": [
    "import heapq\n",
    "\n",
    "def hamming_dist(word1, word2):\n",
    "    count = 0\n",
    "    for i in range(len(word1)):\n",
    "        if word1[i] != word2[i]:\n",
    "            count += 1\n",
    "    return count\n",
    "\n",
    "def best_first_search(start, goal, word_list):\n",
    "    # Priority queue holds tuples: (heuristic, current_node, path_so_far)\n",
    "    pq = [(hamming_dist(start, goal), start, [])]\n",
    "    visited = set()\n",
    "    \n",
    "    while pq:\n",
    "        heuristic, node, path = heapq.heappop(pq)\n",
    "        \n",
    "        if node == goal:\n",
    "            return path + [node]\n",
    "        \n",
    "        if node in visited:\n",
    "            continue\n",
    "        \n",
    "        visited.add(node)\n",
    "        \n",
    "        # Only add words that differ by exactly one letter from the current node\n",
    "        for word in word_list:\n",
    "            if word != node and hamming_dist(node, word) == 1 and node in visited:\n",
    "                new_path = path + [node]\n",
    "                new_heuristic = hamming_dist(word, goal)\n",
    "                heapq.heappush(pq, (new_heuristic, word, new_path))\n",
    "    \n",
    "    return None  # Return None if no path is found\n",
    "\n",
    "start = \"hit\" \n",
    "goal = \"cog\" \n",
    "word_list = [\"hit\", \"hot\", \"dot\", \"dog\", \"cog\", \"lot\", \"log\"] \n",
    " \n",
    "print(best_first_search(start, goal, word_list))\n"
   ]
  },
  {
   "cell_type": "markdown",
   "metadata": {},
   "source": [
    "## Q2\n",
    "Greedy Search: Word Ladder Puzzle \n",
    "You are given a starting word and a goal word of the same length. You can change only one \n",
    "letter at a time, but each intermediate word must be a valid English word from a given \n",
    "dictionary. \n",
    " \n",
    "Implement Greedy Search to find a transformation sequence that leads from the start word to \n",
    "the goal word. The heuristic function will be the number of letters that differ between the \n",
    "current word and the goal word (Hamming distance). \n",
    " \n"
   ]
  },
  {
   "cell_type": "code",
   "execution_count": 74,
   "metadata": {},
   "outputs": [],
   "source": [
    "import heapq\n",
    "\n",
    "def hamming_dist(start, goal):\n",
    "\n",
    "    count=0\n",
    "    #assuming lengths are same\n",
    "    for i in range (0,len(start)):\n",
    "        if start[i]!=goal[i]:\n",
    "            count=count+1\n",
    "    \n",
    "    return count\n",
    "\n",
    "\n",
    "def best_first_search(start, goal, word_list):\n",
    "\n",
    "    pq = [(hamming_dist(start,goal), start, [])]\n",
    "\n",
    "    visited= set()\n",
    "\n",
    "    while pq:\n",
    "        heursitic, node, path = heapq.heappop(pq)\n",
    "\n",
    "        if node == goal:\n",
    "            path = path + [node]\n",
    "            return path\n",
    "\n",
    "        if node in visited:\n",
    "            continue\n",
    "\n",
    "        visited.add(node)\n",
    "        # path = path + [node]\n",
    "\n",
    "        for word in word_list:\n",
    "            if word!=node:# and word not in visited:\n",
    "                dist = hamming_dist(goal, word)\n",
    "                heapq.heappush(pq, (dist, word, path + [node]))\n",
    "            # print(pq)\n",
    "       \n",
    "\n",
    "    return None\n",
    "        "
   ]
  },
  {
   "cell_type": "markdown",
   "metadata": {},
   "source": [
    "### Testcases"
   ]
  },
  {
   "cell_type": "code",
   "execution_count": 75,
   "metadata": {},
   "outputs": [
    {
     "name": "stdout",
     "output_type": "stream",
     "text": [
      "['hit', 'cog']\n"
     ]
    }
   ],
   "source": [
    "start = \"hit\" \n",
    "goal = \"cog\" \n",
    "word_list = [\"hit\", \"hot\", \"dot\", \"dog\", \"cog\", \"lot\", \"log\"] \n",
    " \n",
    "print(best_first_search(start,goal,word_list))"
   ]
  },
  {
   "cell_type": "code",
   "execution_count": 76,
   "metadata": {},
   "outputs": [
    {
     "name": "stdout",
     "output_type": "stream",
     "text": [
      "['lead', 'gold']\n"
     ]
    }
   ],
   "source": [
    "start = \"lead\"\n",
    "goal = \"gold\"\n",
    "word_list = [\"lead\", \"load\", \"goad\", \"gold\", \"goat\", \"geat\", \"lold\"]\n",
    "\n",
    "print(best_first_search(start, goal, word_list))\n"
   ]
  },
  {
   "cell_type": "code",
   "execution_count": 77,
   "metadata": {},
   "outputs": [
    {
     "name": "stdout",
     "output_type": "stream",
     "text": [
      "['cold', 'warm']\n"
     ]
    }
   ],
   "source": [
    "start = \"cold\"\n",
    "goal = \"warm\"\n",
    "word_list = [\n",
    "    \"cold\", \"cord\", \"card\", \"ward\", \"warm\", \n",
    "    \"core\", \"wore\", \"ware\", \"worm\", \"corm\", \"word\"\n",
    "]\n",
    "\n",
    "print(best_first_search(start, goal, word_list))"
   ]
  },
  {
   "cell_type": "code",
   "execution_count": null,
   "metadata": {},
   "outputs": [],
   "source": []
  }
 ],
 "metadata": {
  "kernelspec": {
   "display_name": "base",
   "language": "python",
   "name": "python3"
  },
  "language_info": {
   "codemirror_mode": {
    "name": "ipython",
    "version": 3
   },
   "file_extension": ".py",
   "mimetype": "text/x-python",
   "name": "python",
   "nbconvert_exporter": "python",
   "pygments_lexer": "ipython3",
   "version": "3.12.4"
  }
 },
 "nbformat": 4,
 "nbformat_minor": 2
}
