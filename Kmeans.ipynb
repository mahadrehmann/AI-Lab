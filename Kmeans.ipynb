{
 "cells": [
  {
   "cell_type": "markdown",
   "id": "86b3e5c2",
   "metadata": {},
   "source": [
    "Load the dataset"
   ]
  },
  {
   "cell_type": "code",
   "execution_count": 1,
   "id": "3ed6d3f7",
   "metadata": {},
   "outputs": [
    {
     "data": {
      "text/html": [
       "<div>\n",
       "<style scoped>\n",
       "    .dataframe tbody tr th:only-of-type {\n",
       "        vertical-align: middle;\n",
       "    }\n",
       "\n",
       "    .dataframe tbody tr th {\n",
       "        vertical-align: top;\n",
       "    }\n",
       "\n",
       "    .dataframe thead th {\n",
       "        text-align: right;\n",
       "    }\n",
       "</style>\n",
       "<table border=\"1\" class=\"dataframe\">\n",
       "  <thead>\n",
       "    <tr style=\"text-align: right;\">\n",
       "      <th></th>\n",
       "      <th>CustomerID</th>\n",
       "      <th>Genre</th>\n",
       "      <th>Age</th>\n",
       "      <th>Annual Income (k$)</th>\n",
       "      <th>Spending Score (1-100)</th>\n",
       "    </tr>\n",
       "  </thead>\n",
       "  <tbody>\n",
       "    <tr>\n",
       "      <th>0</th>\n",
       "      <td>1</td>\n",
       "      <td>Male</td>\n",
       "      <td>19</td>\n",
       "      <td>15</td>\n",
       "      <td>39</td>\n",
       "    </tr>\n",
       "    <tr>\n",
       "      <th>1</th>\n",
       "      <td>2</td>\n",
       "      <td>Male</td>\n",
       "      <td>21</td>\n",
       "      <td>15</td>\n",
       "      <td>81</td>\n",
       "    </tr>\n",
       "    <tr>\n",
       "      <th>2</th>\n",
       "      <td>3</td>\n",
       "      <td>Female</td>\n",
       "      <td>20</td>\n",
       "      <td>16</td>\n",
       "      <td>6</td>\n",
       "    </tr>\n",
       "    <tr>\n",
       "      <th>3</th>\n",
       "      <td>4</td>\n",
       "      <td>Female</td>\n",
       "      <td>23</td>\n",
       "      <td>16</td>\n",
       "      <td>77</td>\n",
       "    </tr>\n",
       "    <tr>\n",
       "      <th>4</th>\n",
       "      <td>5</td>\n",
       "      <td>Female</td>\n",
       "      <td>31</td>\n",
       "      <td>17</td>\n",
       "      <td>40</td>\n",
       "    </tr>\n",
       "  </tbody>\n",
       "</table>\n",
       "</div>"
      ],
      "text/plain": [
       "   CustomerID   Genre  Age  Annual Income (k$)  Spending Score (1-100)\n",
       "0           1    Male   19                  15                      39\n",
       "1           2    Male   21                  15                      81\n",
       "2           3  Female   20                  16                       6\n",
       "3           4  Female   23                  16                      77\n",
       "4           5  Female   31                  17                      40"
      ]
     },
     "execution_count": 1,
     "metadata": {},
     "output_type": "execute_result"
    }
   ],
   "source": [
    "import pandas as pd\n",
    "\n",
    "# Load the uploaded dataset\n",
    "df = pd.read_csv(\"Mall_Customers.csv\")\n",
    "df.head()\n"
   ]
  },
  {
   "cell_type": "markdown",
   "id": "3a00722b",
   "metadata": {},
   "source": [
    "# Data Preprocessing\n",
    "\n",
    "Here you have to clean and normalize the dataset and extract the relevant features"
   ]
  },
  {
   "cell_type": "code",
   "execution_count": 2,
   "id": "69797096",
   "metadata": {},
   "outputs": [
    {
     "name": "stdout",
     "output_type": "stream",
     "text": [
      "[[15 39]\n",
      " [15 81]\n",
      " [16  6]\n",
      " [16 77]\n",
      " [17 40]]\n"
     ]
    },
    {
     "data": {
      "text/plain": [
       "array([[-1.73899919, -0.43480148],\n",
       "       [-1.73899919,  1.19570407],\n",
       "       [-1.70082976, -1.71591298],\n",
       "       [-1.70082976,  1.04041783],\n",
       "       [-1.66266033, -0.39597992]])"
      ]
     },
     "execution_count": 2,
     "metadata": {},
     "output_type": "execute_result"
    }
   ],
   "source": [
    "import numpy as np\n",
    "import matplotlib.pyplot as plt\n",
    "from sklearn.preprocessing import StandardScaler\n",
    "\n",
    "# Select relevant features\n",
    "X = df[['Annual Income (k$)', 'Spending Score (1-100)']].values\n",
    "print(X[:5])\n",
    "# Normalize the data using standard scaling\n",
    "scaler = StandardScaler()\n",
    "X_scaled = scaler.fit_transform(X)\n",
    "\n",
    "X_scaled[:5] \n",
    "\n"
   ]
  },
  {
   "cell_type": "markdown",
   "id": "dc8b8ead",
   "metadata": {},
   "source": [
    "# Kmeans Algo"
   ]
  },
  {
   "cell_type": "code",
   "execution_count": 3,
   "id": "fd4e7cb1",
   "metadata": {},
   "outputs": [],
   "source": [
    "# Initialize centroids randomly\n",
    "def initialize_centroids(X, k):\n",
    "    np.random.seed(42)\n",
    "    indices = np.random.choice(X.shape[0], k, replace=False)\n",
    "    return X[indices]\n",
    "\n",
    "# Assign each data point to the nearest centroid\n",
    "def assign_clusters(X, centroids):\n",
    "    distances = np.linalg.norm(X[:, np.newaxis] - centroids, axis=2)\n",
    "    return np.argmin(distances, axis=1)\n",
    "\n",
    "# Update centroids based on the mean of assigned points\n",
    "def update_centroids(X, labels, k):\n",
    "    centroids = np.zeros((k, X.shape[1]))\n",
    "    for i in range(k):\n",
    "        # Get all points assigned to this cluster\n",
    "        cluster_points = X[labels == i]\n",
    "        if len(cluster_points) > 0:\n",
    "            # Calculate the mean of all points in the cluster\n",
    "            centroids[i] = np.mean(cluster_points, axis=0)\n",
    "    return centroids\n",
    "\n",
    "# Calculate inertia (sum of squared distances to nearest centroid)\n",
    "def compute_inertia(X, labels, centroids):\n",
    "    inertia = 0\n",
    "    for i in range(len(X)):\n",
    "        inertia += np.sum((X[i] - centroids[labels[i]])**2)\n",
    "    return inertia\n",
    "\n",
    "# K-means algorithm implementation\n",
    "def kmeans(X, k, max_iters=100, tol=1e-4):\n",
    "    # Initialize centroids\n",
    "    centroids = initialize_centroids(X, k)\n",
    "    \n",
    "    prev_centroids = np.zeros_like(centroids)\n",
    "    labels = np.zeros(X.shape[0], dtype=int)\n",
    "    \n",
    "    # Iterative process\n",
    "    for iteration in range(max_iters):\n",
    "        # Assign points to clusters\n",
    "        labels = assign_clusters(X, centroids)\n",
    "        \n",
    "        # Store previous centroids for convergence check\n",
    "        prev_centroids = centroids.copy()\n",
    "        \n",
    "        # Update centroids\n",
    "        centroids = update_centroids(X, labels, k)\n",
    "        \n",
    "        # Check for convergence\n",
    "        if np.allclose(prev_centroids, centroids, rtol=tol):\n",
    "            print(f\"Converged after {iteration + 1} iterations\")\n",
    "            break\n",
    "    \n",
    "    # Calculate final inertia\n",
    "    inertia = compute_inertia(X, labels, centroids)\n",
    "    \n",
    "    return labels, centroids, inertia"
   ]
  },
  {
   "cell_type": "markdown",
   "id": "1592b0f2",
   "metadata": {},
   "source": [
    "# Use the elbow method to find the optimal value of k and plot the elbow curve"
   ]
  },
  {
   "cell_type": "code",
   "execution_count": 4,
   "id": "d098e8de",
   "metadata": {},
   "outputs": [
    {
     "name": "stdout",
     "output_type": "stream",
     "text": [
      "\n",
      "Performing Elbow Method analysis...\n",
      "Converged after 2 iterations\n",
      "k=1, inertia=400.0000\n",
      "Converged after 9 iterations\n",
      "k=2, inertia=270.8924\n",
      "Converged after 15 iterations\n",
      "k=3, inertia=157.7040\n",
      "Converged after 7 iterations\n",
      "k=4, inertia=141.2372\n",
      "Converged after 11 iterations\n",
      "k=5, inertia=65.5789\n",
      "Converged after 5 iterations\n",
      "k=6, inertia=55.3773\n",
      "Converged after 10 iterations\n",
      "k=7, inertia=47.6931\n",
      "Converged after 8 iterations\n",
      "k=8, inertia=44.7742\n",
      "Converged after 12 iterations\n",
      "k=9, inertia=43.3039\n",
      "Converged after 11 iterations\n",
      "k=10, inertia=41.0220\n"
     ]
    },
    {
     "data": {
      "image/png": "[encoded data removed]",
      "text/plain": [
       "<Figure size 1000x600 with 1 Axes>"
      ]
     },
     "metadata": {},
     "output_type": "display_data"
    }
   ],
   "source": [
    "inertias = []\n",
    "k_values = range(1, 11)\n",
    "\n",
    "\n",
    "\n",
    "inertias = []\n",
    "k_values = range(1, 11)\n",
    "\n",
    "print(\"\\nPerforming Elbow Method analysis...\")\n",
    "for k in k_values:\n",
    "    _, _, inertia = kmeans(X_scaled, k)\n",
    "    inertias.append(inertia)\n",
    "    print(f\"k={k}, inertia={inertia:.4f}\")\n",
    "\n",
    "# Plot the elbow curve\n",
    "plt.figure(figsize=(10, 6))\n",
    "plt.plot(k_values, inertias, 'bo-')\n",
    "plt.xlabel('Number of Clusters (k)')\n",
    "plt.ylabel('Inertia')\n",
    "plt.title('Elbow Method for Optimal k')\n",
    "plt.grid(True)\n",
    "plt.savefig('elbow_curve.png')\n",
    "plt.show()\n",
    "\n",
    "# Clear from graph\n",
    "optimal_k = 5\n"
   ]
  },
  {
   "cell_type": "markdown",
   "id": "7aa9d32a",
   "metadata": {},
   "source": [
    "# Final Clustering "
   ]
  },
  {
   "cell_type": "code",
   "execution_count": 5,
   "id": "7de9822b",
   "metadata": {},
   "outputs": [
    {
     "name": "stdout",
     "output_type": "stream",
     "text": [
      "\n",
      "Performing final clustering with k=5...\n",
      "Converged after 11 iterations\n",
      "\n",
      "Cluster Statistics:\n",
      "Cluster 1:\n",
      "  Number of customers: 80\n",
      "  Average Income: $55.09k\n",
      "  Average Spending Score: 49.71/100\n",
      "  Centroid (original scale): Income=$55.09k, Spending Score=49.71\n",
      "\n",
      "Cluster 2:\n",
      "  Number of customers: 22\n",
      "  Average Income: $25.73k\n",
      "  Average Spending Score: 79.36/100\n",
      "  Centroid (original scale): Income=$25.73k, Spending Score=79.36\n",
      "\n",
      "Cluster 3:\n",
      "  Number of customers: 23\n",
      "  Average Income: $26.30k\n",
      "  Average Spending Score: 20.91/100\n",
      "  Centroid (original scale): Income=$26.30k, Spending Score=20.91\n",
      "\n",
      "Cluster 4:\n",
      "  Number of customers: 39\n",
      "  Average Income: $86.54k\n",
      "  Average Spending Score: 82.13/100\n",
      "  Centroid (original scale): Income=$86.54k, Spending Score=82.13\n",
      "\n",
      "Cluster 5:\n",
      "  Number of customers: 36\n",
      "  Average Income: $87.75k\n",
      "  Average Spending Score: 17.58/100\n",
      "  Centroid (original scale): Income=$87.75k, Spending Score=17.58\n",
      "\n"
     ]
    }
   ],
   "source": [
    "\n",
    "k = optimal_k\n",
    "\n",
    "print(f\"\\nPerforming final clustering with k={optimal_k}...\")\n",
    "labels, centroids, _ = kmeans(X_scaled, optimal_k)\n",
    "\n",
    "# Transform centroids back to original scale for interpretation\n",
    "centroids_original = scaler.inverse_transform(centroids)\n",
    "\n",
    "# Visualize the clusters\n",
    "plt.figure(figsize=(12, 8))\n",
    "\n",
    "# Plot the data points color-coded by cluster\n",
    "colors = ['blue', 'green', 'red', 'cyan', 'magenta', 'yellow', 'black', 'purple', 'orange', 'brown']\n",
    "for i in range(optimal_k):\n",
    "    cluster_points = X[labels == i]\n",
    "    plt.scatter(cluster_points[:, 0], cluster_points[:, 1], s=50, c=colors[i], label=f'Cluster {i+1}')\n",
    "\n",
    "# Plot the centroids\n",
    "plt.scatter(centroids_original[:, 0], centroids_original[:, 1], s=200, c='black', marker='X', label='Centroids')\n",
    "\n",
    "plt.xlabel('Annual Income (k$)')\n",
    "plt.ylabel('Spending Score (1-100)')\n",
    "plt.title('K-Means Clustering of Metro Cash n Carry Customers')\n",
    "plt.legend()\n",
    "plt.grid(True)\n",
    "plt.savefig('clusters.png')\n",
    "plt.close()\n",
    "\n",
    "# Print cluster statistics\n",
    "print(\"\\nCluster Statistics:\")\n",
    "for i in range(optimal_k):\n",
    "    cluster_points = X[labels == i]\n",
    "    print(f\"Cluster {i+1}:\")\n",
    "    print(f\"  Number of customers: {len(cluster_points)}\")\n",
    "    print(f\"  Average Income: ${np.mean(cluster_points[:, 0]):.2f}k\")\n",
    "    print(f\"  Average Spending Score: {np.mean(cluster_points[:, 1]):.2f}/100\")\n",
    "    print(f\"  Centroid (original scale): Income=${centroids_original[i][0]:.2f}k, Spending Score={centroids_original[i][1]:.2f}\")\n",
    "    print()\n",
    "\n",
    "\n",
    "\n"
   ]
  },
  {
   "cell_type": "markdown",
   "id": "e1a433dd",
   "metadata": {},
   "source": [
    "# Briefly discuss what each of the clusters represents and what insights can be gained for the marketing team from this"
   ]
  },
  {
   "cell_type": "code",
   "execution_count": 6,
   "id": "fe36a5ac",
   "metadata": {},
   "outputs": [
    {
     "name": "stdout",
     "output_type": "stream",
     "text": [
      "Cluster Interpretations and Business Insights:\n",
      "=============================================\n",
      "Cluster 1: Medium Income, Medium Spending - Core customer base\n",
      "Cluster 2: Low Income, High Spending - Budget shoppers with high loyalty\n",
      "Cluster 3: Low Income, Low Spending - Budget-conscious minimalists\n",
      "Cluster 4: High Income, High Spending - Premium enthusiastic shoppers\n",
      "Cluster 5: High Income, Low Spending - Affluent conservative spenders\n"
     ]
    }
   ],
   "source": [
    "# Interpret clusters and provide business insights\n",
    "print(\"Cluster Interpretations and Business Insights:\")\n",
    "print(\"=============================================\")\n",
    "\n",
    "# Note: These interpretations will be more accurate after running the actual algorithm\n",
    "# The following are placeholder interpretations\n",
    "cluster_descriptions = [\n",
    "    \"Medium Income, Medium Spending - Core customer base\",\n",
    "    \"Low Income, High Spending - Budget shoppers with high loyalty\",\n",
    "    \"Low Income, Low Spending - Budget-conscious minimalists\",\n",
    "    \"High Income, High Spending - Premium enthusiastic shoppers\",\n",
    "    \"High Income, Low Spending - Affluent conservative spenders\"\n",
    "]\n",
    "\n",
    "for i in range(optimal_k):\n",
    "    print(f\"Cluster {i+1}: {cluster_descriptions[i]}\")"
   ]
  },
  {
   "cell_type": "code",
   "execution_count": null,
   "id": "240fb2ce",
   "metadata": {},
   "outputs": [],
   "source": []
  }
 ],
 "metadata": {
  "kernelspec": {
   "display_name": "Python 3 (ipykernel)",
   "language": "python",
   "name": "python3"
  },
  "language_info": {
   "codemirror_mode": {
    "name": "ipython",
    "version": 3
   },
   "file_extension": ".py",
   "mimetype": "text/x-python",
   "name": "python",
   "nbconvert_exporter": "python",
   "pygments_lexer": "ipython3",
   "version": "3.12.4"
  }
 },
 "nbformat": 4,
 "nbformat_minor": 5
}
